{
 "cells": [
  {
   "cell_type": "markdown",
   "metadata": {},
   "source": [
    "# TENSORFLOW LINEAR REGRESSION"
   ]
  },
  {
   "cell_type": "markdown",
   "metadata": {},
   "source": [
    "# I. Tải và chuẩn hóa dữ liệu"
   ]
  },
  {
   "cell_type": "code",
   "execution_count": 10,
   "metadata": {},
   "outputs": [
    {
     "name": "stdout",
     "output_type": "stream",
     "text": [
      "Đã tải và chuẩn hóa dữ liệu\n"
     ]
    }
   ],
   "source": [
    "# import thư viện numpy\n",
    "import numpy as np\n",
    "# import thư viện tensorflow\n",
    "import tensorflow as tf\n",
    "# import thư viện matplotlib\n",
    "import matplotlib.pyplot as plt\n",
    "\n",
    "# Tải dữ liệu data X và y đã được xử lý thành ma trận\n",
    "data_X = np.load(\"F:/HK4/ML/Case_Study_#2/Boston_Housing_Data/train_X.npy\") \n",
    "data_y = np.load(\"F:/HK4/ML/Case_Study_#2/Boston_Housing_Data/train_y.npy\")\n",
    " \n",
    "# Chuẩn hóa dữ liệu\n",
    "def normalizer(dataset):\n",
    "    # Tìm giá trung bình của mỗi đặc trưng\n",
    "    mu = np.mean(dataset,axis=0)\n",
    "    # Tìm độ lệch chuẩn của mỗi đặc trưng\n",
    "    sigma = np.std(dataset,axis=0)\n",
    " \n",
    "    return(dataset - mu)/sigma\n",
    "\n",
    "# Thêm cột giá trị bias cho dữ liệu\n",
    "def bias_vector(features,labels):\n",
    "    # Lấy số lượng mẫu\n",
    "    n_training_samples = features.shape[0]\n",
    "    # Lấy số lượng đặc trưng\n",
    "    n_dim = features.shape[1]\n",
    "    # Thêm vào cột bias (cột toàn giá trị 1) cho ma trận thuộc tính\n",
    "    f = np.reshape(np.c_[np.ones(n_training_samples),features],[n_training_samples,n_dim + 1])\n",
    "    # Chuyển ma trận nhãn về kích thước Nx1\n",
    "    l = np.reshape(labels,[n_training_samples,1]) \n",
    "    return f, l\n",
    "\n",
    "train_X = normalizer(data_X)\n",
    "train_X, train_y = bias_vector(train_X, data_y)\n",
    "\n",
    "print(\"Đã tải và chuẩn hóa dữ liệu\")"
   ]
  },
  {
   "cell_type": "markdown",
   "metadata": {},
   "source": [
    "# II. Xây dựng model"
   ]
  },
  {
   "cell_type": "code",
   "execution_count": 11,
   "metadata": {},
   "outputs": [],
   "source": [
    "# Khởi tạo ma trận biến cho model tensorflow với giá trị khởi tạo tại mỗi phần tử là 0\n",
    "W = tf.Variable(tf.zeros([train_X.shape[1], 1]))\n",
    "\n",
    "# Xây dưng placeholder dùng để đổ dữ liệu train_X vào khi huấn luyện với kiểu dữ liệu liệu float32 và kích thước [?, 14] \n",
    "X = tf.placeholder(tf.float32, [None, train_X.shape[1]])\n",
    "# Xây dưng placeholder dùng để đổ dữ liệu train_y vào khi huấn luyện với kiểu dữ liệu liệu float32 và kích thước [?, 1] \n",
    "y = tf.placeholder(tf.float32, [None, 1])\n",
    "\n",
    "# Tính y_hat (tf.matmul tương đương phép nhân ma trận)\n",
    "y_hat = tf.matmul(X, W)\n",
    "# Tính cost (tf.square tương đương phép bình phương mỗi phần tử; tf.reduce_mean tương đương phép lấy trung bình cộng)\n",
    "cost = tf.reduce_mean(tf.square(y - y_hat))\n",
    "\n",
    "# Thiết lập phép tối ưu hóa cost bằng phương pháp Gradient Descent với learning rate = 0.01\n",
    "train = tf.train.GradientDescentOptimizer(0.01).minimize(cost)"
   ]
  },
  {
   "cell_type": "markdown",
   "metadata": {},
   "source": [
    "# III. Train dữ liệu và tối ưu bằng BGD"
   ]
  },
  {
   "cell_type": "code",
   "execution_count": 19,
   "metadata": {},
   "outputs": [
    {
     "name": "stdout",
     "output_type": "stream",
     "text": [
      "epoch :  0       cost =  583.55634\n",
      "epoch :  50       cost =  94.034325\n",
      "epoch :  100       cost =  33.530106\n",
      "epoch :  150       cost =  25.183605\n",
      "epoch :  200       cost =  23.828995\n",
      "epoch :  250       cost =  23.476223\n",
      "epoch :  300       cost =  23.306595\n",
      "epoch :  350       cost =  23.19523\n",
      "epoch :  400       cost =  23.11503\n",
      "epoch :  450       cost =  23.055454\n",
      "epoch :  500       cost =  23.01037\n",
      "epoch :  550       cost =  22.975725\n",
      "epoch :  600       cost =  22.94871\n",
      "epoch :  650       cost =  22.927347\n",
      "epoch :  700       cost =  22.910223\n",
      "epoch :  750       cost =  22.89633\n",
      "epoch :  800       cost =  22.88493\n",
      "epoch :  850       cost =  22.875471\n",
      "epoch :  900       cost =  22.86755\n",
      "epoch :  950       cost =  22.86087\n",
      "epoch :  1000       cost =  22.855188\n",
      "epoch :  1050       cost =  22.850334\n",
      "epoch :  1100       cost =  22.846167\n",
      "epoch :  1150       cost =  22.842564\n",
      "epoch :  1200       cost =  22.839449\n",
      "epoch :  1250       cost =  22.83674\n",
      "epoch :  1300       cost =  22.834377\n",
      "epoch :  1350       cost =  22.832321\n",
      "epoch :  1400       cost =  22.83052\n",
      "epoch :  1450       cost =  22.82895\n",
      "epoch :  1500       cost =  22.827572\n",
      "epoch :  1550       cost =  22.826366\n",
      "epoch :  1600       cost =  22.825302\n",
      "epoch :  1650       cost =  22.824371\n",
      "epoch :  1700       cost =  22.823553\n",
      "epoch :  1750       cost =  22.822832\n",
      "epoch :  1800       cost =  22.8222\n",
      "epoch :  1850       cost =  22.82165\n",
      "epoch :  1900       cost =  22.821152\n",
      "epoch :  1950       cost =  22.820726\n",
      "epoch :  1999       cost =  22.820356\n"
     ]
    },
    {
     "data": {
      "image/png": "[encoded data removed]",
      "text/plain": [
       "<Figure size 432x288 with 1 Axes>"
      ]
     },
     "metadata": {
      "needs_background": "light"
     },
     "output_type": "display_data"
    },
    {
     "name": "stdout",
     "output_type": "stream",
     "text": [
      "w_BGD = \n",
      "[[22.330013  ]\n",
      " [-0.6679162 ]\n",
      " [ 0.76808894]\n",
      " [-0.2631822 ]\n",
      " [ 0.32363784]\n",
      " [-2.111145  ]\n",
      " [ 2.7269046 ]\n",
      " [ 0.5228493 ]\n",
      " [-2.8915431 ]\n",
      " [ 2.1576388 ]\n",
      " [-1.7225759 ]\n",
      " [-2.1009629 ]\n",
      " [ 0.54265577]\n",
      " [-3.9758024 ]]\n"
     ]
    }
   ],
   "source": [
    "# Khởi tạo tất cả các biến\n",
    "init = tf.global_variables_initializer()\n",
    "# Khởi tạo phiên làm việc mới\n",
    "session = tf.Session()\n",
    "# Chạy các biến đã khởi tạo\n",
    "session.run(init)\n",
    "\n",
    "# List lưu các mse\n",
    "all_mse = []\n",
    "# Khởi tạo số vòng lặp\n",
    "num = 2000\n",
    "# Huấn luyện model\n",
    "for e in range(num):\n",
    "    # Đổ dữ liệu và huấn luyện\n",
    "    result, err = session.run([train, cost], feed_dict = {X : train_X, y : train_y})\n",
    "    # Thêm mse vào list\n",
    "    all_mse.append(err)\n",
    "    if e % 50 == 0:\n",
    "        # In ra cost tại vòng lặp thứ e\n",
    "        print(\"epoch : \", e, \"      cost = \", err)\n",
    "\n",
    "print(\"epoch : \", e, \"      cost = \", err)\n",
    "\n",
    "# Vẽ đồ thị biễu diễn cost qua từng vòng lặp\n",
    "axis_x = list(range(num))\n",
    "axis_y = all_mse\n",
    "plt.scatter(axis_x, axis_y)\n",
    "plt.xlabel(\"Epoch number\")\n",
    "plt.ylabel(\"MSE value\")\n",
    "plt.show()\n",
    "\n",
    "print(\"w_BGD = \")\n",
    "print(session.run(W))\n"
   ]
  },
  {
   "cell_type": "markdown",
   "metadata": {},
   "source": [
    "# IV. Kiểm tra model được train và tối ưu bằng BGD"
   ]
  },
  {
   "cell_type": "code",
   "execution_count": 20,
   "metadata": {},
   "outputs": [
    {
     "name": "stdout",
     "output_type": "stream",
     "text": [
      "MSE trên testset =  21.993622699190983\n"
     ]
    }
   ],
   "source": [
    "# Tải dữ liệu data X và y đã được xử lý thành ma trận\n",
    "data_test_X = np.load(\"F:/HK4/ML/Case_Study_#2/Boston_Housing_Data/test_X.npy\")\n",
    "data_test_y = np.load(\"F:/HK4/ML/Case_Study_#2/Boston_Housing_Data/test_y.npy\")\n",
    "\n",
    "test_X = normalizer(data_test_X)\n",
    "test_X, test_y = bias_vector(test_X, data_test_y)\n",
    "\n",
    "# Tính y_hat khi đổ dữ liệu test_X\n",
    "y_pred = session.run(y_hat, feed_dict={X: test_X})\n",
    "\n",
    "# Tính mse\n",
    "mse = session.run(tf.reduce_mean(tf.square(y_pred - test_y)))\n",
    "\n",
    "print(\"MSE trên testset = \", mse)"
   ]
  },
  {
   "cell_type": "markdown",
   "metadata": {},
   "source": [
    "# V. Train dữ liệu và tối ưu bằng SGD"
   ]
  },
  {
   "cell_type": "code",
   "execution_count": 22,
   "metadata": {},
   "outputs": [
    {
     "name": "stdout",
     "output_type": "stream",
     "text": [
      "epoch :  0       cost =  583.55634\n",
      "epoch :  1       cost =  26.478458\n",
      "epoch :  2       cost =  26.446024\n",
      "epoch :  3       cost =  26.496477\n",
      "epoch :  4       cost =  26.535374\n",
      "epoch :  5       cost =  26.565958\n",
      "epoch :  6       cost =  26.589006\n",
      "epoch :  7       cost =  26.605608\n",
      "epoch :  8       cost =  26.617188\n",
      "epoch :  9       cost =  26.625082\n",
      "epoch :  9       cost =  26.625082\n"
     ]
    },
    {
     "data": {
      "image/png": "[encoded data removed]",
      "text/plain": [
       "<Figure size 432x288 with 1 Axes>"
      ]
     },
     "metadata": {
      "needs_background": "light"
     },
     "output_type": "display_data"
    },
    {
     "name": "stdout",
     "output_type": "stream",
     "text": [
      "w_SGD = \n",
      "[[22.266798  ]\n",
      " [-1.111121  ]\n",
      " [ 0.92125255]\n",
      " [-0.2666778 ]\n",
      " [ 1.791278  ]\n",
      " [-2.6192296 ]\n",
      " [ 2.1373332 ]\n",
      " [ 1.1709343 ]\n",
      " [-3.186012  ]\n",
      " [ 2.256434  ]\n",
      " [-2.0579433 ]\n",
      " [-2.1424084 ]\n",
      " [ 0.91338456]\n",
      " [-4.780395  ]]\n"
     ]
    }
   ],
   "source": [
    "# Khởi tạo tất cả các biến\n",
    "init = tf.global_variables_initializer()\n",
    "# Khởi tạo phiên làm việc mới\n",
    "session = tf.Session()\n",
    "# Chạy các biến đã khởi tạo\n",
    "session.run(init)\n",
    "\n",
    "# List lưu các mse\n",
    "all_mse = []\n",
    "# Khởi tạo số vòng lặp\n",
    "num = 10\n",
    "# Huấn luyện model\n",
    "for e in range(num):\n",
    "    err = session.run(cost, feed_dict = {X : train_X, y : train_y})\n",
    "    all_mse.append(err)\n",
    "    # Lần lượt duyệt qua mối điểm dữ liệu trên tập train\n",
    "    for i in range(train_X.shape[0]):\n",
    "        # Đổ 1 điểm dữ liệu để train\n",
    "        session.run(train, feed_dict = {X : train_X[i].reshape(1, train_X.shape[1]), y : train_y[i].reshape(1, 1)})\n",
    "    if e % 1 == 0:\n",
    "        # In ra cost tại vòng lặp thứ e\n",
    "        print(\"epoch : \", e, \"      cost = \", err)\n",
    "print(\"epoch : \", e, \"      cost = \", err)\n",
    "\n",
    "# Vẽ đồ thị biễu diễn cost qua từng vòng lặp\n",
    "axis_x = list(range(num))\n",
    "axis_y = all_mse\n",
    "plt.scatter(axis_x, axis_y, c='r', label='data')\n",
    "plt.xlabel(\"Epoch number\")\n",
    "plt.ylabel(\"MSE value\")\n",
    "plt.show()\n",
    "\n",
    "print(\"w_SGD = \")\n",
    "print(session.run(W))"
   ]
  },
  {
   "cell_type": "markdown",
   "metadata": {},
   "source": [
    "# VI. Kiểm tra model được train và tối ưu bằng SGD"
   ]
  },
  {
   "cell_type": "code",
   "execution_count": 23,
   "metadata": {},
   "outputs": [
    {
     "name": "stdout",
     "output_type": "stream",
     "text": [
      "MSE trên testset =  23.000847492871912\n"
     ]
    }
   ],
   "source": [
    "# Tải dữ liệu data X và y đã được xử lý thành ma trận\n",
    "data_test_X = np.load(\"F:/HK4/ML/Case_Study_#2/Boston_Housing_Data/test_X.npy\")\n",
    "data_test_y = np.load(\"F:/HK4/ML/Case_Study_#2/Boston_Housing_Data/test_y.npy\")\n",
    "\n",
    "test_X = normalizer(data_test_X)\n",
    "test_X, test_y = bias_vector(test_X, data_test_y)\n",
    "\n",
    "# Tính y_hat khi đổ dữ liệu test_X\n",
    "y_pred = session.run(y_hat, feed_dict={X: test_X})\n",
    "\n",
    "# Tính mse\n",
    "mse = session.run(tf.reduce_mean(tf.square(y_pred - test_y)))\n",
    "\n",
    "print(\"MSE trên testset = \", mse)"
   ]
  },
  {
   "cell_type": "markdown",
   "metadata": {},
   "source": [
    "# VII. Train dữ liệu và tối ưu bằng mini-BGD"
   ]
  },
  {
   "cell_type": "code",
   "execution_count": 24,
   "metadata": {},
   "outputs": [
    {
     "name": "stdout",
     "output_type": "stream",
     "text": [
      "epoch :  0       cost =  583.55634\n",
      "epoch :  20       cost =  44.91137\n",
      "epoch :  40       cost =  24.695063\n",
      "epoch :  60       cost =  23.519375\n",
      "epoch :  80       cost =  23.25425\n",
      "epoch :  99       cost =  23.118303\n"
     ]
    },
    {
     "data": {
      "image/png": "[encoded data removed]",
      "text/plain": [
       "<Figure size 432x288 with 1 Axes>"
      ]
     },
     "metadata": {
      "needs_background": "light"
     },
     "output_type": "display_data"
    },
    {
     "name": "stdout",
     "output_type": "stream",
     "text": [
      "w_mBGD = \n",
      "[[22.327349  ]\n",
      " [-0.48807415]\n",
      " [ 0.56972444]\n",
      " [-0.64251375]\n",
      " [ 0.39108834]\n",
      " [-1.4892908 ]\n",
      " [ 3.0220976 ]\n",
      " [ 0.2940425 ]\n",
      " [-2.531935  ]\n",
      " [ 1.1701559 ]\n",
      " [-0.864132  ]\n",
      " [-1.9023503 ]\n",
      " [ 0.5702407 ]\n",
      " [-3.7716455 ]]\n"
     ]
    }
   ],
   "source": [
    "# Khởi tạo tất cả các biến\n",
    "init = tf.global_variables_initializer()\n",
    "# Khởi tạo phiên làm việc mới\n",
    "session = tf.Session()\n",
    "# Chạy các biến đã khởi tạo\n",
    "session.run(init)\n",
    "\n",
    "# Thiết lập batch size\n",
    "batch_size = 84\n",
    "# List lưu các mse\n",
    "all_mse = []\n",
    "# Khởi tạo số vòng lặp\n",
    "num = 100\n",
    "# Huấn luyện model\n",
    "for e in range(num):\n",
    "    err = session.run(cost, feed_dict = {X : train_X, y : train_y})\n",
    "    all_mse.append(err)\n",
    "    # Chia dữ liệu train ra thành từng phần với kích thước batch_sizex14\n",
    "    for i in range(0, train_X.shape[0], batch_size):\n",
    "        # Đổ phần dữ liệu được cắt vào để train\n",
    "        session.run([train, cost], feed_dict = {X : train_X[i:i+batch_size].reshape(batch_size, train_X.shape[1]), y : train_y[i:i+batch_size].reshape(batch_size, 1)})\n",
    "    if e % 20 == 0:\n",
    "        print(\"epoch : \", e, \"      cost = \", err)\n",
    "print(\"epoch : \", e, \"      cost = \", err)\n",
    "\n",
    "# Vẽ đồ thị biễu diễn cost qua từng vòng lặp\n",
    "axis_x = list(range(num))\n",
    "axis_y = all_mse\n",
    "plt.scatter(axis_x, axis_y, c='r', label='data')\n",
    "plt.xlabel(\"Epoch number\")\n",
    "plt.ylabel(\"MSE value\")\n",
    "plt.show()\n",
    "\n",
    "print(\"w_mBGD = \")\n",
    "print(session.run(W))"
   ]
  },
  {
   "cell_type": "markdown",
   "metadata": {},
   "source": [
    "# VIII. Kiểm tra model được train và tối ưu bằng mini-BGD"
   ]
  },
  {
   "cell_type": "code",
   "execution_count": 25,
   "metadata": {},
   "outputs": [
    {
     "name": "stdout",
     "output_type": "stream",
     "text": [
      "MSE trên testset =  22.47396889158312\n"
     ]
    }
   ],
   "source": [
    "# Tải dữ liệu data X và y đã được xử lý thành ma trận\n",
    "data_test_X = np.load(\"F:/HK4/ML/Case_Study_#2/Boston_Housing_Data/test_X.npy\")\n",
    "data_test_y = np.load(\"F:/HK4/ML/Case_Study_#2/Boston_Housing_Data/test_y.npy\")\n",
    "\n",
    "\n",
    "test_X = normalizer(data_test_X)\n",
    "test_X, test_y = bias_vector(test_X, data_test_y)\n",
    "\n",
    "# Tính y_hat khi đổ dữ liệu test_X\n",
    "y_pred = session.run(y_hat, feed_dict={X: test_X})\n",
    "\n",
    "# Tính mse\n",
    "mse = session.run(tf.reduce_mean(tf.square(y_pred - test_y)))\n",
    "\n",
    "print(\"MSE trên testset = \", mse)"
   ]
  },
  {
   "cell_type": "markdown",
   "metadata": {},
   "source": [
    "# IX. Train dữ liệu và tối ưu bằng Basic Normal Equations:"
   ]
  },
  {
   "cell_type": "code",
   "execution_count": 26,
   "metadata": {},
   "outputs": [
    {
     "name": "stdout",
     "output_type": "stream",
     "text": [
      "w_NE =  [[22.33005952]\n",
      " [-0.68002615]\n",
      " [ 0.78172463]\n",
      " [-0.20132047]\n",
      " [ 0.31621891]\n",
      " [-2.12073671]\n",
      " [ 2.71913436]\n",
      " [ 0.52554617]\n",
      " [-2.88438238]\n",
      " [ 2.28644062]\n",
      " [-1.87282741]\n",
      " [-2.10662869]\n",
      " [ 0.54255769]\n",
      " [-3.97540854]]\n"
     ]
    }
   ],
   "source": [
    "# Khởi tạo tất cả các biến\n",
    "init = tf.global_variables_initializer()\n",
    "# Khởi tạo phiên làm việc mới\n",
    "session = tf.Session()\n",
    "# Chạy các biến đã khởi tạo\n",
    "session.run(init)\n",
    "\n",
    "#Load data và gán vào biến\n",
    "X_NE = train_X\n",
    "y_NE = train_y\n",
    "XT = tf.transpose(X_NE)\n",
    "\n",
    "# w = (w0,... , wi) = ((XT. X)^-1 ). XT. y\n",
    "w_NE = tf.matmul(tf.matmul(tf.matrix_inverse(tf.matmul(XT,X_NE)),XT),y_NE) \n",
    "\n",
    "with tf.Session() as sess:\n",
    "    W = sess.run(w_NE)\n",
    "\n",
    "print(\"w_NE = \", W)"
   ]
  },
  {
   "cell_type": "markdown",
   "metadata": {},
   "source": [
    "# X. Kiểm tra Basic Normal Equations: "
   ]
  },
  {
   "cell_type": "code",
   "execution_count": 27,
   "metadata": {},
   "outputs": [
    {
     "name": "stdout",
     "output_type": "stream",
     "text": [
      "MSE trên testset =  21.943712588179345\n"
     ]
    }
   ],
   "source": [
    "# Tải dữ liệu data X và y đã được xử lý thành ma trận\n",
    "data_test_X = np.load(\"F:/HK4/ML/Case_Study_#2/Boston_Housing_Data/test_X.npy\")\n",
    "data_test_y = np.load(\"F:/HK4/ML/Case_Study_#2/Boston_Housing_Data/test_y.npy\")\n",
    "\n",
    "test_X = normalizer(data_test_X)\n",
    "test_X, test_y = bias_vector(test_X, data_test_y)\n",
    "\n",
    "def MSE(w, y, X):\n",
    "    # Tìm kết quả dự đoán (np.dot tương đương phép nhân ma trận)\n",
    "    predict = np.dot(X, w)\n",
    "    # Tính mse theo công thức\n",
    "    mse = np.sum(((y - predict)**2)/X.shape[0])\n",
    "    return mse\n",
    "\n",
    "print(\"MSE trên testset = \", MSE(W, test_y, test_X))"
   ]
  },
  {
   "cell_type": "markdown",
   "metadata": {},
   "source": [
    "# XI. Dùng thư viện Sklearn"
   ]
  },
  {
   "cell_type": "code",
   "execution_count": 8,
   "metadata": {},
   "outputs": [
    {
     "name": "stdout",
     "output_type": "stream",
     "text": [
      "W:  [[22.93352941 -1.42634609  1.70935018  0.69362814  1.37682657 -1.77950026\n",
      "   2.61788709 -1.08089067 -3.78180601  3.0102741  -2.16952819 -1.99218793\n",
      "   1.48086579 -3.37648493]]\n"
     ]
    },
    {
     "data": {
      "text/plain": [
       "0.7836641131693358"
      ]
     },
     "execution_count": 8,
     "metadata": {},
     "output_type": "execute_result"
    }
   ],
   "source": [
    "# import thư viện\n",
    "from sklearn import linear_model\n",
    "# khởi tạo biến\n",
    "regr = linear_model.LinearRegression(fit_intercept=False)\n",
    "# fit model\n",
    "regr.fit(test_X, test_y)\n",
    "# in ra giá trị W\n",
    "print( 'W: ', regr.coef_ )\n",
    "# dự đoán từ tập test\n",
    "regr.predict(test_X)\n",
    "# đánh giá dự đoán\n",
    "regr.score(test_X, test_y)"
   ]
  }
 ],
 "metadata": {
  "kernelspec": {
   "display_name": "Python 3",
   "language": "python",
   "name": "python3"
  },
  "language_info": {
   "codemirror_mode": {
    "name": "ipython",
    "version": 3
   },
   "file_extension": ".py",
   "mimetype": "text/x-python",
   "name": "python",
   "nbconvert_exporter": "python",
   "pygments_lexer": "ipython3",
   "version": "3.5.6"
  }
 },
 "nbformat": 4,
 "nbformat_minor": 2
}
